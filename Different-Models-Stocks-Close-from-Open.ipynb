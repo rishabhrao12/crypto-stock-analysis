{
 "cells": [
  {
   "cell_type": "markdown",
   "source": [
    "## Different Models Stocks - Predicting Close Value from Open"
   ],
   "metadata": {
    "collapsed": false,
    "pycharm": {
     "name": "#%% md\n"
    }
   }
  },
  {
   "cell_type": "code",
   "execution_count": 35,
   "outputs": [],
   "source": [
    "import pandas as pd\n",
    "import numpy as np"
   ],
   "metadata": {
    "collapsed": false,
    "pycharm": {
     "name": "#%%\n"
    }
   }
  },
  {
   "cell_type": "code",
   "execution_count": 36,
   "outputs": [
    {
     "data": {
      "text/plain": "         Date        Open        High         Low       Close   Adj Close  \\\n0  2020-09-25  108.430000  112.440002  107.669998  112.279999  111.562439   \n1  2020-09-28  115.010002  115.320000  112.779999  114.959999  114.225311   \n2  2020-09-29  114.550003  115.309998  113.570000  114.089996  113.360878   \n3  2020-09-30  113.790001  117.260002  113.620003  115.809998  115.069893   \n4  2020-10-01  117.639999  117.720001  115.830002  116.790001  116.043625   \n\n      Volume  \n0  149981400  \n1  137672400  \n2   99382200  \n3  142675200  \n4  116120400  ",
      "text/html": "<div>\n<style scoped>\n    .dataframe tbody tr th:only-of-type {\n        vertical-align: middle;\n    }\n\n    .dataframe tbody tr th {\n        vertical-align: top;\n    }\n\n    .dataframe thead th {\n        text-align: right;\n    }\n</style>\n<table border=\"1\" class=\"dataframe\">\n  <thead>\n    <tr style=\"text-align: right;\">\n      <th></th>\n      <th>Date</th>\n      <th>Open</th>\n      <th>High</th>\n      <th>Low</th>\n      <th>Close</th>\n      <th>Adj Close</th>\n      <th>Volume</th>\n    </tr>\n  </thead>\n  <tbody>\n    <tr>\n      <th>0</th>\n      <td>2020-09-25</td>\n      <td>108.430000</td>\n      <td>112.440002</td>\n      <td>107.669998</td>\n      <td>112.279999</td>\n      <td>111.562439</td>\n      <td>149981400</td>\n    </tr>\n    <tr>\n      <th>1</th>\n      <td>2020-09-28</td>\n      <td>115.010002</td>\n      <td>115.320000</td>\n      <td>112.779999</td>\n      <td>114.959999</td>\n      <td>114.225311</td>\n      <td>137672400</td>\n    </tr>\n    <tr>\n      <th>2</th>\n      <td>2020-09-29</td>\n      <td>114.550003</td>\n      <td>115.309998</td>\n      <td>113.570000</td>\n      <td>114.089996</td>\n      <td>113.360878</td>\n      <td>99382200</td>\n    </tr>\n    <tr>\n      <th>3</th>\n      <td>2020-09-30</td>\n      <td>113.790001</td>\n      <td>117.260002</td>\n      <td>113.620003</td>\n      <td>115.809998</td>\n      <td>115.069893</td>\n      <td>142675200</td>\n    </tr>\n    <tr>\n      <th>4</th>\n      <td>2020-10-01</td>\n      <td>117.639999</td>\n      <td>117.720001</td>\n      <td>115.830002</td>\n      <td>116.790001</td>\n      <td>116.043625</td>\n      <td>116120400</td>\n    </tr>\n  </tbody>\n</table>\n</div>"
     },
     "execution_count": 36,
     "metadata": {},
     "output_type": "execute_result"
    }
   ],
   "source": [
    "df = pd.read_csv('AAPL.csv')\n",
    "df.head()"
   ],
   "metadata": {
    "collapsed": false,
    "pycharm": {
     "name": "#%%\n"
    }
   }
  },
  {
   "cell_type": "markdown",
   "source": [
    "## Sorting according to date"
   ],
   "metadata": {
    "collapsed": false,
    "pycharm": {
     "name": "#%% md\n"
    }
   }
  },
  {
   "cell_type": "code",
   "execution_count": 37,
   "outputs": [
    {
     "data": {
      "text/plain": "0   2020-09-25\n1   2020-09-28\n2   2020-09-29\n3   2020-09-30\n4   2020-10-01\nName: Date, dtype: datetime64[ns]"
     },
     "execution_count": 37,
     "metadata": {},
     "output_type": "execute_result"
    }
   ],
   "source": [
    "df['Date'] = pd.to_datetime(df['Date'])\n",
    "df['Date'][:5]"
   ],
   "metadata": {
    "collapsed": false,
    "pycharm": {
     "name": "#%%\n"
    }
   }
  },
  {
   "cell_type": "code",
   "execution_count": 38,
   "outputs": [],
   "source": [
    "from sklearn.model_selection import train_test_split\n",
    "from sklearn.model_selection import GridSearchCV\n",
    "from sklearn.metrics import r2_score, mean_squared_error"
   ],
   "metadata": {
    "collapsed": false,
    "pycharm": {
     "name": "#%%\n"
    }
   }
  },
  {
   "cell_type": "markdown",
   "source": [
    "### 1. Linear Regression"
   ],
   "metadata": {
    "collapsed": false,
    "pycharm": {
     "name": "#%% md\n"
    }
   }
  },
  {
   "cell_type": "code",
   "execution_count": 39,
   "outputs": [
    {
     "name": "stdout",
     "output_type": "stream",
     "text": [
      "Train Size:  201\n",
      "Train Size:  51\n"
     ]
    }
   ],
   "source": [
    "X = np.asanyarray(df['Open'])\n",
    "Y = np.asanyarray(df['Close'])\n",
    "X = X.reshape(-1, 1)\n",
    "Y = Y.reshape(-1,1)\n",
    "X_train, X_test, Y_train, Y_test = train_test_split(X,Y,test_size=0.2,random_state=4)\n",
    "print(\"Train Size: \",len(Y_train))\n",
    "print(\"Train Size: \",len(Y_test))"
   ],
   "metadata": {
    "collapsed": false,
    "pycharm": {
     "name": "#%%\n"
    }
   }
  },
  {
   "cell_type": "code",
   "execution_count": 40,
   "outputs": [],
   "source": [
    "from sklearn.linear_model import LinearRegression"
   ],
   "metadata": {
    "collapsed": false,
    "pycharm": {
     "name": "#%%\n"
    }
   }
  },
  {
   "cell_type": "code",
   "execution_count": 41,
   "outputs": [
    {
     "name": "stdout",
     "output_type": "stream",
     "text": [
      "Done\n"
     ]
    }
   ],
   "source": [
    "lre = LinearRegression()\n",
    "lre.get_params().keys()\n",
    "parameters = {'fit_intercept':[True,False], 'normalize':[True,False], 'copy_X':[True, False]}\n",
    "lre_grid = GridSearchCV(lre,parameters,cv=None)\n",
    "lre_grid.fit(X_train,Y_train)\n",
    "print(\"Done\")"
   ],
   "metadata": {
    "collapsed": false,
    "pycharm": {
     "name": "#%%\n"
    }
   }
  },
  {
   "cell_type": "code",
   "execution_count": 42,
   "outputs": [
    {
     "data": {
      "text/plain": "0.9716134965067678"
     },
     "execution_count": 42,
     "metadata": {},
     "output_type": "execute_result"
    }
   ],
   "source": [
    "lre_grid.score(X_test,Y_test)"
   ],
   "metadata": {
    "collapsed": false,
    "pycharm": {
     "name": "#%%\n"
    }
   }
  },
  {
   "cell_type": "code",
   "execution_count": 43,
   "outputs": [
    {
     "name": "stdout",
     "output_type": "stream",
     "text": [
      "[[592.32812372]]\n"
     ]
    }
   ],
   "source": [
    "price = 592.50\n",
    "price = np.asanyarray(price)\n",
    "print(lre_grid.predict(price.reshape(-1,1)))"
   ],
   "metadata": {
    "collapsed": false,
    "pycharm": {
     "name": "#%%\n"
    }
   }
  },
  {
   "cell_type": "markdown",
   "source": [
    "### 2. Random Forest Regression"
   ],
   "metadata": {
    "collapsed": false,
    "pycharm": {
     "name": "#%% md\n"
    }
   }
  },
  {
   "cell_type": "code",
   "execution_count": 44,
   "outputs": [],
   "source": [
    "from sklearn.ensemble import RandomForestRegressor"
   ],
   "metadata": {
    "collapsed": false,
    "pycharm": {
     "name": "#%%\n"
    }
   }
  },
  {
   "cell_type": "code",
   "execution_count": 45,
   "outputs": [
    {
     "data": {
      "text/plain": "{'bootstrap': True,\n 'ccp_alpha': 0.0,\n 'criterion': 'mse',\n 'max_depth': None,\n 'max_features': 'auto',\n 'max_leaf_nodes': None,\n 'max_samples': None,\n 'min_impurity_decrease': 0.0,\n 'min_impurity_split': None,\n 'min_samples_leaf': 1,\n 'min_samples_split': 2,\n 'min_weight_fraction_leaf': 0.0,\n 'n_estimators': 100,\n 'n_jobs': None,\n 'oob_score': False,\n 'random_state': None,\n 'verbose': 0,\n 'warm_start': False}"
     },
     "execution_count": 45,
     "metadata": {},
     "output_type": "execute_result"
    }
   ],
   "source": [
    "rfr = RandomForestRegressor()\n",
    "rfr.get_params()"
   ],
   "metadata": {
    "collapsed": false,
    "pycharm": {
     "name": "#%%\n"
    }
   }
  },
  {
   "cell_type": "code",
   "execution_count": 46,
   "outputs": [
    {
     "data": {
      "text/plain": "0.9622124272470758"
     },
     "execution_count": 46,
     "metadata": {},
     "output_type": "execute_result"
    }
   ],
   "source": [
    "rfr.fit(X_train,Y_train.ravel())\n",
    "rfr.score(X_test,Y_test)"
   ],
   "metadata": {
    "collapsed": false,
    "pycharm": {
     "name": "#%%\n"
    }
   }
  },
  {
   "cell_type": "markdown",
   "source": [
    "### 3. Ridge Regression"
   ],
   "metadata": {
    "collapsed": false,
    "pycharm": {
     "name": "#%% md\n"
    }
   }
  },
  {
   "cell_type": "code",
   "execution_count": 47,
   "outputs": [],
   "source": [
    "from sklearn.linear_model import Ridge"
   ],
   "metadata": {
    "collapsed": false,
    "pycharm": {
     "name": "#%%\n"
    }
   }
  },
  {
   "cell_type": "code",
   "execution_count": 48,
   "outputs": [
    {
     "data": {
      "text/plain": "{'alpha': 1.0,\n 'copy_X': True,\n 'fit_intercept': True,\n 'max_iter': None,\n 'normalize': False,\n 'random_state': None,\n 'solver': 'auto',\n 'tol': 0.001}"
     },
     "execution_count": 48,
     "metadata": {},
     "output_type": "execute_result"
    }
   ],
   "source": [
    "ridge = Ridge()\n",
    "ridge.get_params()"
   ],
   "metadata": {
    "collapsed": false,
    "pycharm": {
     "name": "#%%\n"
    }
   }
  },
  {
   "cell_type": "code",
   "execution_count": 49,
   "outputs": [
    {
     "name": "stdout",
     "output_type": "stream",
     "text": [
      "Ridge Best Params:  {'alpha': 2.0, 'copy_X': True, 'normalize': False}\n",
      "Score:  0.9718916783088138\n"
     ]
    }
   ],
   "source": [
    "params = {'alpha':[1.0,2.0],'copy_X':[True,False],'normalize':[True,False]}\n",
    "ridge_grid = GridSearchCV(ridge,params,cv=None)\n",
    "ridge_grid.fit(X_train,Y_train)\n",
    "print(\"Ridge Best Params: \",ridge_grid.best_params_)\n",
    "print(\"Score: \",ridge_grid.score(X_test,Y_test))"
   ],
   "metadata": {
    "collapsed": false,
    "pycharm": {
     "name": "#%%\n"
    }
   }
  },
  {
   "cell_type": "markdown",
   "source": [
    "### 4. Lasso Regression"
   ],
   "metadata": {
    "collapsed": false,
    "pycharm": {
     "name": "#%% md\n"
    }
   }
  },
  {
   "cell_type": "code",
   "execution_count": 50,
   "outputs": [],
   "source": [
    "from sklearn.linear_model import Lasso"
   ],
   "metadata": {
    "collapsed": false,
    "pycharm": {
     "name": "#%%\n"
    }
   }
  },
  {
   "cell_type": "code",
   "execution_count": 51,
   "outputs": [
    {
     "data": {
      "text/plain": "{'alpha': 1.0,\n 'copy_X': True,\n 'fit_intercept': True,\n 'max_iter': 1000,\n 'normalize': False,\n 'positive': False,\n 'precompute': False,\n 'random_state': None,\n 'selection': 'cyclic',\n 'tol': 0.0001,\n 'warm_start': False}"
     },
     "execution_count": 51,
     "metadata": {},
     "output_type": "execute_result"
    }
   ],
   "source": [
    "lasso = Lasso()\n",
    "lasso.get_params()"
   ],
   "metadata": {
    "collapsed": false,
    "pycharm": {
     "name": "#%%\n"
    }
   }
  },
  {
   "cell_type": "code",
   "execution_count": 52,
   "outputs": [
    {
     "name": "stdout",
     "output_type": "stream",
     "text": [
      "Lasso Best Params {'alpha': 1.0}\n",
      "Lasso Score 0.9725502296819046\n"
     ]
    }
   ],
   "source": [
    "params = {'alpha':[1.0,2.0,3.0]}\n",
    "lasso_grid = GridSearchCV(lasso,params,cv=None)\n",
    "lasso_grid.fit(X_train,Y_train)\n",
    "print(\"Lasso Best Params\",lasso_grid.best_params_)\n",
    "print(\"Lasso Score\",lasso_grid.score(X_test,Y_test))"
   ],
   "metadata": {
    "collapsed": false,
    "pycharm": {
     "name": "#%%\n"
    }
   }
  },
  {
   "cell_type": "markdown",
   "source": [
    "### Evaluation of Models\n",
    "Using Accuracy, F1-Score, Classification Matrix"
   ],
   "metadata": {
    "collapsed": false,
    "pycharm": {
     "name": "#%% md\n"
    }
   }
  },
  {
   "cell_type": "markdown",
   "source": [
    "### 1. Linear Regression"
   ],
   "metadata": {
    "collapsed": false,
    "pycharm": {
     "name": "#%% md\n"
    }
   }
  },
  {
   "cell_type": "code",
   "execution_count": 53,
   "outputs": [
    {
     "name": "stdout",
     "output_type": "stream",
     "text": [
      "R^2 Score:  0.9716134965067678\n",
      "Mean Squared Error:  3.9604876498684924\n"
     ]
    }
   ],
   "source": [
    "Y_preds_lre = lre_grid.predict(X_test)\n",
    "print(\"R^2 Score: \",r2_score(Y_test,Y_preds_lre))\n",
    "print(\"Mean Squared Error: \",mean_squared_error(Y_test,Y_preds_lre))"
   ],
   "metadata": {
    "collapsed": false,
    "pycharm": {
     "name": "#%%\n"
    }
   }
  },
  {
   "cell_type": "markdown",
   "source": [
    "### 2. Random Forest Regression"
   ],
   "metadata": {
    "collapsed": false
   }
  },
  {
   "cell_type": "code",
   "execution_count": 54,
   "outputs": [
    {
     "name": "stdout",
     "output_type": "stream",
     "text": [
      "R^2 Score:  0.9622124272470758\n",
      "Mean Squared Error:  5.272125721371205\n"
     ]
    }
   ],
   "source": [
    "Y_preds_rf = rfr.predict(X_test)\n",
    "print(\"R^2 Score: \",r2_score(Y_test,Y_preds_rf))\n",
    "print(\"Mean Squared Error: \",mean_squared_error(Y_test,Y_preds_rf))"
   ],
   "metadata": {
    "collapsed": false,
    "pycharm": {
     "name": "#%%\n"
    }
   }
  },
  {
   "cell_type": "markdown",
   "source": [
    "### 3. Ridge Regression"
   ],
   "metadata": {
    "collapsed": false,
    "pycharm": {
     "name": "#%% md\n"
    }
   }
  },
  {
   "cell_type": "code",
   "execution_count": 55,
   "outputs": [
    {
     "name": "stdout",
     "output_type": "stream",
     "text": [
      "R^2 Score:  0.9718916783088138\n",
      "Mean Squared Error:  3.921675698559144\n"
     ]
    }
   ],
   "source": [
    "Y_preds_ridge = ridge_grid.predict(X_test)\n",
    "print(\"R^2 Score: \",r2_score(Y_test,Y_preds_ridge))\n",
    "print(\"Mean Squared Error: \",mean_squared_error(Y_test,Y_preds_ridge))"
   ],
   "metadata": {
    "collapsed": false,
    "pycharm": {
     "name": "#%%\n"
    }
   }
  },
  {
   "cell_type": "markdown",
   "source": [
    "### 4. Lasso Regression"
   ],
   "metadata": {
    "collapsed": false
   }
  },
  {
   "cell_type": "code",
   "execution_count": 56,
   "outputs": [
    {
     "name": "stdout",
     "output_type": "stream",
     "text": [
      "R^2 Score:  0.9725502296819046\n",
      "Mean Squared Error:  3.8297945487531493\n"
     ]
    }
   ],
   "source": [
    "Y_preds_lasso = lasso_grid.predict(X_test)\n",
    "print(\"R^2 Score: \",r2_score(Y_test,Y_preds_lasso))\n",
    "print(\"Mean Squared Error: \",mean_squared_error(Y_test,Y_preds_lasso))"
   ],
   "metadata": {
    "collapsed": false,
    "pycharm": {
     "name": "#%%\n"
    }
   }
  },
  {
   "cell_type": "markdown",
   "source": [
    "## Saving the models"
   ],
   "metadata": {
    "collapsed": false,
    "pycharm": {
     "name": "#%% md\n"
    }
   }
  },
  {
   "cell_type": "code",
   "execution_count": 57,
   "outputs": [],
   "source": [
    "import pickle"
   ],
   "metadata": {
    "collapsed": false,
    "pycharm": {
     "name": "#%%\n"
    }
   }
  },
  {
   "cell_type": "code",
   "execution_count": 58,
   "outputs": [],
   "source": [
    "lre_name = \"linear_regression_aapl.pickle\"\n",
    "rfr_name = \"random_forest_aapl.pickle\"\n",
    "ridge_name = \"ridge_regression_aapl.pickle\"\n",
    "lasso_name = \"lasso_regression_aapl.pickle\""
   ],
   "metadata": {
    "collapsed": false,
    "pycharm": {
     "name": "#%%\n"
    }
   }
  },
  {
   "cell_type": "code",
   "execution_count": 59,
   "outputs": [],
   "source": [
    "pickle.dump(lre_grid, open(lre_name,mode='wb'))\n",
    "pickle.dump(rfr, open(rfr_name,mode='wb'))\n",
    "pickle.dump(ridge_grid, open(ridge_name,mode='wb'))\n",
    "pickle.dump(lasso_grid, open(lasso_name,mode='wb'))"
   ],
   "metadata": {
    "collapsed": false,
    "pycharm": {
     "name": "#%%\n"
    }
   }
  },
  {
   "cell_type": "markdown",
   "source": [
    "#### Testing if loaded properly"
   ],
   "metadata": {
    "collapsed": false,
    "pycharm": {
     "name": "#%% md\n"
    }
   }
  },
  {
   "cell_type": "code",
   "execution_count": 60,
   "outputs": [
    {
     "name": "stdout",
     "output_type": "stream",
     "text": [
      "Score:  0.9725502296819046\n"
     ]
    }
   ],
   "source": [
    "model = pickle.load(open(lasso_name,mode='rb'))\n",
    "print(\"Score: \",model.score(X_test,Y_test))"
   ],
   "metadata": {
    "collapsed": false,
    "pycharm": {
     "name": "#%%\n"
    }
   }
  },
  {
   "cell_type": "markdown",
   "source": [
    "## Decided on creating a linear regression model"
   ],
   "metadata": {
    "collapsed": false,
    "pycharm": {
     "name": "#%% md\n"
    }
   }
  },
  {
   "cell_type": "code",
   "execution_count": 61,
   "outputs": [],
   "source": [
    "lre = LinearRegression()"
   ],
   "metadata": {
    "collapsed": false,
    "pycharm": {
     "name": "#%%\n"
    }
   }
  },
  {
   "cell_type": "code",
   "execution_count": 62,
   "outputs": [],
   "source": [
    "lre.fit(X_train,Y_train)\n",
    "y_preds = lre.predict(X_test)"
   ],
   "metadata": {
    "collapsed": false,
    "pycharm": {
     "name": "#%%\n"
    }
   }
  },
  {
   "cell_type": "code",
   "execution_count": 63,
   "outputs": [
    {
     "data": {
      "text/plain": "0.9718843793422073"
     },
     "execution_count": 63,
     "metadata": {},
     "output_type": "execute_result"
    }
   ],
   "source": [
    "lre.score(X_test,Y_test)"
   ],
   "metadata": {
    "collapsed": false,
    "pycharm": {
     "name": "#%%\n"
    }
   }
  },
  {
   "cell_type": "code",
   "execution_count": 64,
   "outputs": [
    {
     "data": {
      "text/plain": "{'copy_X': True,\n 'fit_intercept': True,\n 'n_jobs': None,\n 'normalize': False,\n 'positive': False}"
     },
     "execution_count": 64,
     "metadata": {},
     "output_type": "execute_result"
    }
   ],
   "source": [
    "lre.get_params()"
   ],
   "metadata": {
    "collapsed": false,
    "pycharm": {
     "name": "#%%\n"
    }
   }
  },
  {
   "cell_type": "code",
   "execution_count": 65,
   "outputs": [
    {
     "data": {
      "text/plain": "{'copy_X': True, 'fit_intercept': False, 'normalize': True, 'positive': False}"
     },
     "execution_count": 65,
     "metadata": {},
     "output_type": "execute_result"
    }
   ],
   "source": [
    "params = {'copy_X':[True,False],'fit_intercept':[True,False],'normalize':[True,False],'positive':[True,False]}\n",
    "lre_grid = GridSearchCV(lre,params,cv=5)\n",
    "lre_grid.fit(X_train,Y_train)\n",
    "lre_grid.best_params_"
   ],
   "metadata": {
    "collapsed": false,
    "pycharm": {
     "name": "#%%\n"
    }
   }
  },
  {
   "cell_type": "code",
   "execution_count": 66,
   "outputs": [
    {
     "data": {
      "text/plain": "0.9752638775528141"
     },
     "execution_count": 66,
     "metadata": {},
     "output_type": "execute_result"
    }
   ],
   "source": [
    "lre_grid.best_score_"
   ],
   "metadata": {
    "collapsed": false,
    "pycharm": {
     "name": "#%%\n"
    }
   }
  },
  {
   "cell_type": "code",
   "execution_count": 67,
   "outputs": [
    {
     "data": {
      "text/plain": "0.9762446226498078"
     },
     "execution_count": 67,
     "metadata": {},
     "output_type": "execute_result"
    }
   ],
   "source": [
    "lre_grid.score(X_train,Y_train)"
   ],
   "metadata": {
    "collapsed": false,
    "pycharm": {
     "name": "#%%\n"
    }
   }
  },
  {
   "cell_type": "code",
   "execution_count": 68,
   "outputs": [
    {
     "data": {
      "text/plain": "0.9717276063681367"
     },
     "execution_count": 68,
     "metadata": {},
     "output_type": "execute_result"
    }
   ],
   "source": [
    "lre_grid.fit(X,Y)\n",
    "lre_grid.score(X_test,Y_test)"
   ],
   "metadata": {
    "collapsed": false,
    "pycharm": {
     "name": "#%%\n"
    }
   }
  },
  {
   "cell_type": "code",
   "execution_count": 69,
   "outputs": [
    {
     "name": "stdout",
     "output_type": "stream",
     "text": [
      "Finished\n"
     ]
    }
   ],
   "source": [
    "print(\"Finished\")"
   ],
   "metadata": {
    "collapsed": false,
    "pycharm": {
     "name": "#%%\n"
    }
   }
  }
 ],
 "metadata": {
  "kernelspec": {
   "display_name": "Python 3.8",
   "language": "python",
   "name": "python3"
  },
  "language_info": {
   "codemirror_mode": {
    "name": "ipython",
    "version": 3
   },
   "file_extension": ".py",
   "mimetype": "text/x-python",
   "name": "python",
   "nbconvert_exporter": "python",
   "pygments_lexer": "ipython3",
   "version": "3.8.11"
  }
 },
 "nbformat": 4,
 "nbformat_minor": 1
}